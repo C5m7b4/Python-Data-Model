{
 "cells": [
  {
   "cell_type": "code",
   "execution_count": 38,
   "id": "98b693f5",
   "metadata": {},
   "outputs": [],
   "source": [
    "class Point:\n",
    "    def __init__(self, x, y):\n",
    "        self.x = x\n",
    "        self.y = y\n",
    "\n",
    "    def __repr__(self):\n",
    "        return f\"<Point({self.x}, {self.y}) />\"\n",
    "    \n",
    "    def __add__(self, other):\n",
    "        if isinstance(other, (int, float)):\n",
    "            return Point(self.x + other, self.y + other)\n",
    "        else:\n",
    "            return Point(self.x + other.x, self.y + other.y)\n",
    "\n",
    "    def __radd__(self, other):\n",
    "        if isinstance(other, (float, int)):\n",
    "            return Point(other + self.x, other + self.y)\n",
    "        else:\n",
    "            return Point(other.x + self.x, other.y + self.y)\n",
    "        \n",
    "    def __iadd__(self, other):\n",
    "        if isinstance(other, (float, int)):\n",
    "            self.x += other\n",
    "            self.y += other\n",
    "        else:\n",
    "            self.x += other.x\n",
    "            self.y += other.y\n",
    "        return self\n",
    "    "
   ]
  },
  {
   "cell_type": "code",
   "execution_count": 29,
   "id": "17e34a4a",
   "metadata": {},
   "outputs": [],
   "source": [
    "p1 = Point(0, 0)\n",
    "p2 = Point(1,3)\n",
    "p3 = Point(-2, -4)"
   ]
  },
  {
   "cell_type": "code",
   "execution_count": 7,
   "id": "9c55eb8b",
   "metadata": {},
   "outputs": [
    {
     "data": {
      "text/plain": [
       "<Point(0, 0) />"
      ]
     },
     "execution_count": 7,
     "metadata": {},
     "output_type": "execute_result"
    }
   ],
   "source": [
    "p1"
   ]
  },
  {
   "cell_type": "code",
   "execution_count": 8,
   "id": "ddd18af9",
   "metadata": {},
   "outputs": [
    {
     "data": {
      "text/plain": [
       "<Point(1, 3) />"
      ]
     },
     "execution_count": 8,
     "metadata": {},
     "output_type": "execute_result"
    }
   ],
   "source": [
    "p2"
   ]
  },
  {
   "cell_type": "code",
   "execution_count": 14,
   "id": "9eeebf14",
   "metadata": {},
   "outputs": [
    {
     "data": {
      "text/plain": [
       "<Point(-2, -4) />"
      ]
     },
     "execution_count": 14,
     "metadata": {},
     "output_type": "execute_result"
    }
   ],
   "source": [
    "p1 + p3"
   ]
  },
  {
   "cell_type": "code",
   "execution_count": 31,
   "id": "59245d59",
   "metadata": {},
   "outputs": [
    {
     "data": {
      "text/plain": [
       "<Point(1, 3) />"
      ]
     },
     "execution_count": 31,
     "metadata": {},
     "output_type": "execute_result"
    }
   ],
   "source": [
    "Point(p1.x + p2.x, p1.y+ p2.y)"
   ]
  },
  {
   "cell_type": "code",
   "execution_count": 30,
   "id": "54569c80",
   "metadata": {},
   "outputs": [
    {
     "data": {
      "text/plain": [
       "<Point(-1, -1) />"
      ]
     },
     "execution_count": 30,
     "metadata": {},
     "output_type": "execute_result"
    }
   ],
   "source": [
    "p3 + p2"
   ]
  },
  {
   "cell_type": "code",
   "execution_count": 32,
   "id": "8cfd3aa1",
   "metadata": {},
   "outputs": [
    {
     "data": {
      "text/plain": [
       "<Point(-1, -1) />"
      ]
     },
     "execution_count": 32,
     "metadata": {},
     "output_type": "execute_result"
    }
   ],
   "source": [
    "p2 + p3"
   ]
  },
  {
   "cell_type": "code",
   "execution_count": 33,
   "id": "dfa02882",
   "metadata": {},
   "outputs": [
    {
     "data": {
      "text/plain": [
       "<Point(2, 4) />"
      ]
     },
     "execution_count": 33,
     "metadata": {},
     "output_type": "execute_result"
    }
   ],
   "source": [
    "p2 + 1"
   ]
  },
  {
   "cell_type": "code",
   "execution_count": 34,
   "id": "eaadb99f",
   "metadata": {},
   "outputs": [
    {
     "data": {
      "text/plain": [
       "<Point(1, 3) />"
      ]
     },
     "execution_count": 34,
     "metadata": {},
     "output_type": "execute_result"
    }
   ],
   "source": [
    "p2"
   ]
  },
  {
   "cell_type": "code",
   "execution_count": 35,
   "id": "80db3393",
   "metadata": {},
   "outputs": [
    {
     "data": {
      "text/plain": [
       "<Point(2, 4) />"
      ]
     },
     "execution_count": 35,
     "metadata": {},
     "output_type": "execute_result"
    }
   ],
   "source": [
    "1 + p2"
   ]
  },
  {
   "cell_type": "code",
   "execution_count": null,
   "id": "369f21c0",
   "metadata": {},
   "outputs": [],
   "source": []
  }
 ],
 "metadata": {
  "kernelspec": {
   "display_name": "env",
   "language": "python",
   "name": "python3"
  },
  "language_info": {
   "codemirror_mode": {
    "name": "ipython",
    "version": 3
   },
   "file_extension": ".py",
   "mimetype": "text/x-python",
   "name": "python",
   "nbconvert_exporter": "python",
   "pygments_lexer": "ipython3",
   "version": "3.12.10"
  }
 },
 "nbformat": 4,
 "nbformat_minor": 5
}
