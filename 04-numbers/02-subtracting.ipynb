{
 "cells": [
  {
   "cell_type": "code",
   "execution_count": 7,
   "id": "0e55e09c",
   "metadata": {},
   "outputs": [],
   "source": [
    "class Point:\n",
    "    def __init__(self, x, y):\n",
    "        self.x = x\n",
    "        self.y = y\n",
    "\n",
    "    def __repr__(self):\n",
    "        return f\"<Point({self.x}, {self.y}) />\"\n",
    "    \n",
    "    def __sub__(self, other):\n",
    "        if not isinstance(other, (Point, int, float)):\n",
    "            raise TypeError(f\"Subtractions not supported for types other than Points, ints, and floats. You supplied: {type(other)}\")\n",
    "        if isinstance(other, (int, float)):\n",
    "            return Point(self.x - other, self.y - other)\n",
    "        else:\n",
    "            return Point(self.x - other.x, self.y - other.y)\n",
    "        \n",
    "    \n",
    "    \n",
    "\n",
    "    "
   ]
  },
  {
   "cell_type": "code",
   "execution_count": 5,
   "id": "eb7e26f9",
   "metadata": {},
   "outputs": [],
   "source": [
    "p1 = Point(0, 0)\n",
    "p2 = Point(1,3)\n",
    "p3 = Point(-2, -4)"
   ]
  },
  {
   "cell_type": "code",
   "execution_count": 6,
   "id": "5038e5e3",
   "metadata": {},
   "outputs": [
    {
     "ename": "TypeError",
     "evalue": "Subtractions not supported for types of than Points, ints, and floats. You supplied: <class 'str'>",
     "output_type": "error",
     "traceback": [
      "\u001b[31m---------------------------------------------------------------------------\u001b[39m",
      "\u001b[31mTypeError\u001b[39m                                 Traceback (most recent call last)",
      "\u001b[36mCell\u001b[39m\u001b[36m \u001b[39m\u001b[32mIn[6]\u001b[39m\u001b[32m, line 1\u001b[39m\n\u001b[32m----> \u001b[39m\u001b[32m1\u001b[39m \u001b[43mp1\u001b[49m\u001b[43m \u001b[49m\u001b[43m-\u001b[49m\u001b[43m \u001b[49m\u001b[33;43m'\u001b[39;49m\u001b[33;43ma\u001b[39;49m\u001b[33;43m'\u001b[39;49m\n",
      "\u001b[36mCell\u001b[39m\u001b[36m \u001b[39m\u001b[32mIn[4]\u001b[39m\u001b[32m, line 11\u001b[39m, in \u001b[36mPoint.__sub__\u001b[39m\u001b[34m(self, other)\u001b[39m\n\u001b[32m      9\u001b[39m \u001b[38;5;28;01mdef\u001b[39;00m\u001b[38;5;250m \u001b[39m\u001b[34m__sub__\u001b[39m(\u001b[38;5;28mself\u001b[39m, other):\n\u001b[32m     10\u001b[39m     \u001b[38;5;28;01mif\u001b[39;00m \u001b[38;5;129;01mnot\u001b[39;00m \u001b[38;5;28misinstance\u001b[39m(other, (Point, \u001b[38;5;28mint\u001b[39m, \u001b[38;5;28mfloat\u001b[39m)):\n\u001b[32m---> \u001b[39m\u001b[32m11\u001b[39m         \u001b[38;5;28;01mraise\u001b[39;00m \u001b[38;5;167;01mTypeError\u001b[39;00m(\u001b[33mf\u001b[39m\u001b[33m\"\u001b[39m\u001b[33mSubtractions not supported for types of than Points, ints, and floats. You supplied: \u001b[39m\u001b[38;5;132;01m{\u001b[39;00m\u001b[38;5;28mtype\u001b[39m(other)\u001b[38;5;132;01m}\u001b[39;00m\u001b[33m\"\u001b[39m)\n\u001b[32m     12\u001b[39m     \u001b[38;5;28;01mif\u001b[39;00m \u001b[38;5;28misinstance\u001b[39m(other, (\u001b[38;5;28mint\u001b[39m, \u001b[38;5;28mfloat\u001b[39m)):\n\u001b[32m     13\u001b[39m         \u001b[38;5;28;01mreturn\u001b[39;00m Point(\u001b[38;5;28mself\u001b[39m.x - other, \u001b[38;5;28mself\u001b[39m.y - other)\n",
      "\u001b[31mTypeError\u001b[39m: Subtractions not supported for types of than Points, ints, and floats. You supplied: <class 'str'>"
     ]
    }
   ],
   "source": [
    "p1 - 'a'"
   ]
  },
  {
   "cell_type": "code",
   "execution_count": null,
   "id": "e63efc6b",
   "metadata": {},
   "outputs": [],
   "source": []
  }
 ],
 "metadata": {
  "kernelspec": {
   "display_name": "env",
   "language": "python",
   "name": "python3"
  },
  "language_info": {
   "codemirror_mode": {
    "name": "ipython",
    "version": 3
   },
   "file_extension": ".py",
   "mimetype": "text/x-python",
   "name": "python",
   "nbconvert_exporter": "python",
   "pygments_lexer": "ipython3",
   "version": "3.12.10"
  }
 },
 "nbformat": 4,
 "nbformat_minor": 5
}
