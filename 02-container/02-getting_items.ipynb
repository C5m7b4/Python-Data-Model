{
 "cells": [
  {
   "cell_type": "code",
   "execution_count": 2,
   "id": "3c44b743",
   "metadata": {},
   "outputs": [],
   "source": [
    "x = dict(cheese='guoda')"
   ]
  },
  {
   "cell_type": "code",
   "execution_count": 3,
   "id": "88304d3e",
   "metadata": {},
   "outputs": [
    {
     "data": {
      "text/plain": [
       "{'cheese': 'guoda'}"
      ]
     },
     "execution_count": 3,
     "metadata": {},
     "output_type": "execute_result"
    }
   ],
   "source": [
    "x"
   ]
  },
  {
   "cell_type": "code",
   "execution_count": 4,
   "id": "f7184cdc",
   "metadata": {},
   "outputs": [
    {
     "data": {
      "text/plain": [
       "'guoda'"
      ]
     },
     "execution_count": 4,
     "metadata": {},
     "output_type": "execute_result"
    }
   ],
   "source": [
    "x['cheese']"
   ]
  },
  {
   "cell_type": "code",
   "execution_count": 26,
   "id": "2186140c",
   "metadata": {},
   "outputs": [],
   "source": [
    "class Inventory:\n",
    "    def __init__(self):\n",
    "        self._products = ['leds', 'batteries', 'solder']\n",
    "        self._prices = [1.00, 2.00, 5.00]\n",
    "\n",
    "    def __repr__(self):\n",
    "        product_price_pairs = ('{}:${:.2f}'.format(*pair) for pair in zip(self._products, self._prices))\n",
    "        listing = '\\n'.join(product_price_pairs)\n",
    "        return '<Inventory: \\n{listing}\\n</Inventory>'.format(listing=listing)\n",
    "    \n",
    "    def __getitem__(self, key):\n",
    "        for index, product in enumerate(self._products):\n",
    "            if product == key:\n",
    "                return self._prices[index]\n",
    "        return self.__missing__(key)\n",
    "            \n",
    "    def __contains__(self, key):\n",
    "        return key in self._products\n",
    "    \n",
    "    def __missing__(self, notfoundkey):\n",
    "        return \"We are currently out of stock of {}\".format(notfoundkey)"
   ]
  },
  {
   "cell_type": "code",
   "execution_count": 27,
   "id": "646106b8",
   "metadata": {},
   "outputs": [],
   "source": [
    "inv = Inventory()"
   ]
  },
  {
   "cell_type": "code",
   "execution_count": 22,
   "id": "35af0c9f",
   "metadata": {},
   "outputs": [
    {
     "data": {
      "text/plain": [
       "<Inventory: \n",
       "leds:$1.00\n",
       "batteries:$2.00\n",
       "solder:$5.00\n",
       "</Inventory>"
      ]
     },
     "execution_count": 22,
     "metadata": {},
     "output_type": "execute_result"
    }
   ],
   "source": [
    "inv"
   ]
  },
  {
   "cell_type": "code",
   "execution_count": 28,
   "id": "4e4765cc",
   "metadata": {},
   "outputs": [
    {
     "data": {
      "text/plain": [
       "1.0"
      ]
     },
     "execution_count": 28,
     "metadata": {},
     "output_type": "execute_result"
    }
   ],
   "source": [
    "inv['leds']"
   ]
  },
  {
   "cell_type": "code",
   "execution_count": 29,
   "id": "b43bf922",
   "metadata": {},
   "outputs": [
    {
     "data": {
      "text/plain": [
       "'We are currently out of stock of something else'"
      ]
     },
     "execution_count": 29,
     "metadata": {},
     "output_type": "execute_result"
    }
   ],
   "source": [
    "inv['something else']"
   ]
  },
  {
   "cell_type": "code",
   "execution_count": 30,
   "id": "5165593e",
   "metadata": {},
   "outputs": [
    {
     "data": {
      "text/plain": [
       "False"
      ]
     },
     "execution_count": 30,
     "metadata": {},
     "output_type": "execute_result"
    }
   ],
   "source": [
    "'something else' in inv"
   ]
  },
  {
   "cell_type": "code",
   "execution_count": 31,
   "id": "f038fab5",
   "metadata": {},
   "outputs": [
    {
     "data": {
      "text/plain": [
       "True"
      ]
     },
     "execution_count": 31,
     "metadata": {},
     "output_type": "execute_result"
    }
   ],
   "source": [
    "'leds' in inv"
   ]
  },
  {
   "cell_type": "code",
   "execution_count": null,
   "id": "f33b12f4",
   "metadata": {},
   "outputs": [],
   "source": []
  }
 ],
 "metadata": {
  "kernelspec": {
   "display_name": "env",
   "language": "python",
   "name": "python3"
  },
  "language_info": {
   "codemirror_mode": {
    "name": "ipython",
    "version": 3
   },
   "file_extension": ".py",
   "mimetype": "text/x-python",
   "name": "python",
   "nbconvert_exporter": "python",
   "pygments_lexer": "ipython3",
   "version": "3.12.10"
  }
 },
 "nbformat": 4,
 "nbformat_minor": 5
}
