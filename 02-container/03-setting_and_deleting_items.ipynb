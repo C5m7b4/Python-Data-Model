{
 "cells": [
  {
   "cell_type": "code",
   "execution_count": 26,
   "id": "9db52d85",
   "metadata": {},
   "outputs": [],
   "source": [
    "class Inventory:\n",
    "    def __init__(self):\n",
    "        self._products = ['leds', 'batteries', 'solder']\n",
    "        self._prices = [1.00, 2.00, 5.00]\n",
    "\n",
    "    def __repr__(self):\n",
    "        product_price_pairs = ('{}:${:.2f}'.format(*pair) for pair in zip(self._products, self._prices))\n",
    "        listing = '\\n'.join(product_price_pairs)\n",
    "        return '<Inventory: \\n{listing}\\n</Inventory>'.format(listing=listing)\n",
    "    \n",
    "    def __setitem__(self, key, value):\n",
    "        if key in self:\n",
    "            self._prices[self._products.index(key)] = value\n",
    "        else:\n",
    "            self._products.append(key)\n",
    "            self._prices.append(value)\n",
    "    \n",
    "    def __getitem__(self, key):\n",
    "        for index, product in enumerate(self._products):\n",
    "            if product == key:\n",
    "                return self._prices[index]\n",
    "        return self.__missing__(key)\n",
    "            \n",
    "    def __contains__(self, key):\n",
    "        return key in self._products\n",
    "    \n",
    "    def __missing__(self, notfoundkey):\n",
    "        return \"We are currently out of stock of {}\".format(notfoundkey)\n",
    "    \n",
    "    def __delitem__(self, key):\n",
    "        if key in self:\n",
    "            index = self._products.index(key)\n",
    "            del self._products[index]\n",
    "            del self._prices[index]"
   ]
  },
  {
   "cell_type": "code",
   "execution_count": 28,
   "id": "97f51cca",
   "metadata": {},
   "outputs": [],
   "source": [
    "inv = Inventory()"
   ]
  },
  {
   "cell_type": "code",
   "execution_count": 4,
   "id": "d62c8c80",
   "metadata": {},
   "outputs": [
    {
     "data": {
      "text/plain": [
       "<Inventory: \n",
       "leds:$1.00\n",
       "batteries:$2.00\n",
       "solder:$5.00\n",
       "</Inventory>"
      ]
     },
     "execution_count": 4,
     "metadata": {},
     "output_type": "execute_result"
    }
   ],
   "source": [
    "inv"
   ]
  },
  {
   "cell_type": "code",
   "execution_count": 5,
   "id": "ed09287b",
   "metadata": {},
   "outputs": [
    {
     "data": {
      "text/plain": [
       "1.0"
      ]
     },
     "execution_count": 5,
     "metadata": {},
     "output_type": "execute_result"
    }
   ],
   "source": [
    "inv['leds']"
   ]
  },
  {
   "cell_type": "code",
   "execution_count": 12,
   "id": "67dddaac",
   "metadata": {},
   "outputs": [],
   "source": [
    "inv['leds'] = 5"
   ]
  },
  {
   "cell_type": "code",
   "execution_count": 13,
   "id": "809a8d1d",
   "metadata": {},
   "outputs": [
    {
     "data": {
      "text/plain": [
       "<Inventory: \n",
       "leds:$5.00\n",
       "batteries:$2.00\n",
       "solder:$5.00\n",
       "</Inventory>"
      ]
     },
     "execution_count": 13,
     "metadata": {},
     "output_type": "execute_result"
    }
   ],
   "source": [
    "inv"
   ]
  },
  {
   "cell_type": "code",
   "execution_count": 14,
   "id": "597ac67e",
   "metadata": {},
   "outputs": [],
   "source": [
    "inv['leds'] += 2"
   ]
  },
  {
   "cell_type": "code",
   "execution_count": 15,
   "id": "51114098",
   "metadata": {},
   "outputs": [
    {
     "data": {
      "text/plain": [
       "<Inventory: \n",
       "leds:$7.00\n",
       "batteries:$2.00\n",
       "solder:$5.00\n",
       "</Inventory>"
      ]
     },
     "execution_count": 15,
     "metadata": {},
     "output_type": "execute_result"
    }
   ],
   "source": [
    "inv"
   ]
  },
  {
   "cell_type": "code",
   "execution_count": 21,
   "id": "2337661e",
   "metadata": {},
   "outputs": [],
   "source": [
    "inv['wire'] = 10"
   ]
  },
  {
   "cell_type": "code",
   "execution_count": 22,
   "id": "ceac2acc",
   "metadata": {},
   "outputs": [
    {
     "data": {
      "text/plain": [
       "<Inventory: \n",
       "leds:$1.00\n",
       "batteries:$2.00\n",
       "solder:$5.00\n",
       "wire:$10.00\n",
       "</Inventory>"
      ]
     },
     "execution_count": 22,
     "metadata": {},
     "output_type": "execute_result"
    }
   ],
   "source": [
    "inv"
   ]
  },
  {
   "cell_type": "code",
   "execution_count": 23,
   "id": "c61d5d2c",
   "metadata": {},
   "outputs": [],
   "source": [
    "inv['chees'] = 4"
   ]
  },
  {
   "cell_type": "code",
   "execution_count": 24,
   "id": "13bb3aac",
   "metadata": {},
   "outputs": [
    {
     "data": {
      "text/plain": [
       "<Inventory: \n",
       "leds:$1.00\n",
       "batteries:$2.00\n",
       "solder:$5.00\n",
       "wire:$10.00\n",
       "chees:$4.00\n",
       "</Inventory>"
      ]
     },
     "execution_count": 24,
     "metadata": {},
     "output_type": "execute_result"
    }
   ],
   "source": [
    "inv"
   ]
  },
  {
   "cell_type": "code",
   "execution_count": 29,
   "id": "1ef8f999",
   "metadata": {},
   "outputs": [],
   "source": [
    "del inv['cheese']"
   ]
  },
  {
   "cell_type": "code",
   "execution_count": 30,
   "id": "27733e0f",
   "metadata": {},
   "outputs": [
    {
     "data": {
      "text/plain": [
       "<Inventory: \n",
       "leds:$1.00\n",
       "batteries:$2.00\n",
       "solder:$5.00\n",
       "</Inventory>"
      ]
     },
     "execution_count": 30,
     "metadata": {},
     "output_type": "execute_result"
    }
   ],
   "source": [
    "inv"
   ]
  },
  {
   "cell_type": "code",
   "execution_count": null,
   "id": "407ad34b",
   "metadata": {},
   "outputs": [],
   "source": []
  }
 ],
 "metadata": {
  "kernelspec": {
   "display_name": "env",
   "language": "python",
   "name": "python3"
  },
  "language_info": {
   "codemirror_mode": {
    "name": "ipython",
    "version": 3
   },
   "file_extension": ".py",
   "mimetype": "text/x-python",
   "name": "python",
   "nbconvert_exporter": "python",
   "pygments_lexer": "ipython3",
   "version": "3.12.10"
  }
 },
 "nbformat": 4,
 "nbformat_minor": 5
}
