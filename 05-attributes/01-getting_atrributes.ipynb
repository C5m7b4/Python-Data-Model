{
 "cells": [
  {
   "cell_type": "code",
   "execution_count": 37,
   "id": "bf197ca1",
   "metadata": {},
   "outputs": [],
   "source": [
    "class Pair:\n",
    "    def __init__(self, x, y):\n",
    "        self.x = x\n",
    "        self.y = y\n",
    "\n",
    "    def __repr__(self):\n",
    "        return f'<Pair (x={self.x}, y={self.y}) />'\n",
    "    \n",
    "    def __getattr__(self, attrname):\n",
    "        if attrname == 'z':\n",
    "            return 'cheese'\n",
    "        else:\n",
    "            return 'A singularity has occured'\n",
    "        \n",
    "    def __getattribute__(self, attrname):\n",
    "        print(f'__getattribute__: {attrname}')\n",
    "        if attrname == 'z':\n",
    "            return 'cheese'\n",
    "        else:\n",
    "            return super().__getattribute__(attrname)\n",
    "    \n"
   ]
  },
  {
   "cell_type": "code",
   "execution_count": 38,
   "id": "1f746c01",
   "metadata": {},
   "outputs": [],
   "source": [
    "p1 = Pair(3,7)"
   ]
  },
  {
   "cell_type": "code",
   "execution_count": 39,
   "id": "8fdb3fbd",
   "metadata": {},
   "outputs": [
    {
     "name": "stdout",
     "output_type": "stream",
     "text": [
      "__getattribute__: __class__\n",
      "__getattribute__: __class__\n",
      "__getattribute__: __class__\n",
      "__getattribute__: __class__\n",
      "__getattribute__: __class__\n",
      "__getattribute__: _ipython_canary_method_should_not_exist_\n",
      "__getattribute__: __class__\n",
      "__getattribute__: _ipython_canary_method_should_not_exist_\n",
      "__getattribute__: __class__\n",
      "__getattribute__: x\n",
      "__getattribute__: y\n",
      "__getattribute__: __class__\n",
      "__getattribute__: _ipython_canary_method_should_not_exist_\n",
      "__getattribute__: __class__\n",
      "__getattribute__: _ipython_canary_method_should_not_exist_\n",
      "__getattribute__: __class__\n",
      "__getattribute__: _ipython_canary_method_should_not_exist_\n",
      "__getattribute__: __class__\n",
      "__getattribute__: _ipython_canary_method_should_not_exist_\n",
      "__getattribute__: __class__\n",
      "__getattribute__: _ipython_canary_method_should_not_exist_\n",
      "__getattribute__: __class__\n",
      "__getattribute__: _ipython_canary_method_should_not_exist_\n",
      "__getattribute__: __class__\n",
      "__getattribute__: _ipython_canary_method_should_not_exist_\n",
      "__getattribute__: __class__\n",
      "__getattribute__: _ipython_canary_method_should_not_exist_\n",
      "__getattribute__: __class__\n",
      "__getattribute__: _ipython_canary_method_should_not_exist_\n"
     ]
    },
    {
     "data": {
      "text/plain": [
       "<Pair (x=3, y=7) />"
      ]
     },
     "execution_count": 39,
     "metadata": {},
     "output_type": "execute_result"
    }
   ],
   "source": [
    "p1"
   ]
  },
  {
   "cell_type": "code",
   "execution_count": 40,
   "id": "df1baf90",
   "metadata": {},
   "outputs": [
    {
     "name": "stdout",
     "output_type": "stream",
     "text": [
      "__getattribute__: x\n"
     ]
    },
    {
     "data": {
      "text/plain": [
       "3"
      ]
     },
     "execution_count": 40,
     "metadata": {},
     "output_type": "execute_result"
    }
   ],
   "source": [
    "p1.x"
   ]
  },
  {
   "cell_type": "code",
   "execution_count": 41,
   "id": "8682a8c0",
   "metadata": {},
   "outputs": [
    {
     "name": "stdout",
     "output_type": "stream",
     "text": [
      "__getattribute__: x\n"
     ]
    },
    {
     "data": {
      "text/plain": [
       "3"
      ]
     },
     "execution_count": 41,
     "metadata": {},
     "output_type": "execute_result"
    }
   ],
   "source": [
    "getattr(p1, 'x')"
   ]
  },
  {
   "cell_type": "code",
   "execution_count": 44,
   "id": "ee71a5a2",
   "metadata": {},
   "outputs": [
    {
     "name": "stdout",
     "output_type": "stream",
     "text": [
      "__getattribute__: z\n"
     ]
    },
    {
     "data": {
      "text/plain": [
       "'cheese'"
      ]
     },
     "execution_count": 44,
     "metadata": {},
     "output_type": "execute_result"
    }
   ],
   "source": [
    "p1.z"
   ]
  },
  {
   "cell_type": "code",
   "execution_count": 43,
   "id": "998becc9",
   "metadata": {},
   "outputs": [],
   "source": [
    "p1.z = 5"
   ]
  },
  {
   "cell_type": "code",
   "execution_count": 45,
   "id": "03548e71",
   "metadata": {},
   "outputs": [
    {
     "name": "stdout",
     "output_type": "stream",
     "text": [
      "__getattribute__: a\n"
     ]
    },
    {
     "data": {
      "text/plain": [
       "'A singularity has occured'"
      ]
     },
     "execution_count": 45,
     "metadata": {},
     "output_type": "execute_result"
    }
   ],
   "source": [
    "p1.a"
   ]
  },
  {
   "cell_type": "code",
   "execution_count": null,
   "id": "9ef0ca7f",
   "metadata": {},
   "outputs": [],
   "source": []
  }
 ],
 "metadata": {
  "kernelspec": {
   "display_name": "env",
   "language": "python",
   "name": "python3"
  },
  "language_info": {
   "codemirror_mode": {
    "name": "ipython",
    "version": 3
   },
   "file_extension": ".py",
   "mimetype": "text/x-python",
   "name": "python",
   "nbconvert_exporter": "python",
   "pygments_lexer": "ipython3",
   "version": "3.12.10"
  }
 },
 "nbformat": 4,
 "nbformat_minor": 5
}
