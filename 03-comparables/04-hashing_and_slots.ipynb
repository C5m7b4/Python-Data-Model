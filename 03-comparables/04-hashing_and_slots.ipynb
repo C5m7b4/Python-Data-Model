{
 "cells": [
  {
   "cell_type": "code",
   "execution_count": 27,
   "id": "dacc9f6d",
   "metadata": {},
   "outputs": [],
   "source": [
    "from random import randint"
   ]
  },
  {
   "cell_type": "code",
   "execution_count": 39,
   "id": "b614602f",
   "metadata": {},
   "outputs": [],
   "source": [
    "class Car:\n",
    "    __slots__ = ('color', 'year', 'id')\n",
    "\n",
    "\n",
    "    def __init__(self, color, year):\n",
    "        self.color = color\n",
    "        self.year = year\n",
    "        self.id = randint(0,10000)\n",
    "\n",
    "    def __hash__(self):\n",
    "        return hash((self.color, self.year, self.id))\n",
    "\n",
    "    def __eq__(self, other):\n",
    "        return (\n",
    "            self.__class__ == other.__class__ and\n",
    "            self.color == other.color and\n",
    "            self.year == other.year and \n",
    "            self.id == other.id\n",
    "        )"
   ]
  },
  {
   "cell_type": "code",
   "execution_count": 40,
   "id": "8e0334e3",
   "metadata": {},
   "outputs": [],
   "source": [
    "first = Car('red', 1997)\n",
    "second = Car('blue', 2001)\n",
    "third = Car('red', 1997)"
   ]
  },
  {
   "cell_type": "code",
   "execution_count": 41,
   "id": "27920fb1",
   "metadata": {},
   "outputs": [],
   "source": [
    "reviews = {\n",
    "    first:'awesome',\n",
    "    second:'good',\n",
    "    third: 'ok'\n",
    "}"
   ]
  },
  {
   "cell_type": "code",
   "execution_count": 35,
   "id": "ca73b576",
   "metadata": {},
   "outputs": [
    {
     "data": {
      "text/plain": [
       "{<__main__.Car at 0x1b19e068350>: 'awesome',\n",
       " <__main__.Car at 0x1b19e068e30>: 'good',\n",
       " <__main__.Car at 0x1b19e0565d0>: 'ok'}"
      ]
     },
     "execution_count": 35,
     "metadata": {},
     "output_type": "execute_result"
    }
   ],
   "source": [
    "reviews"
   ]
  },
  {
   "cell_type": "code",
   "execution_count": 34,
   "id": "544a26d2",
   "metadata": {},
   "outputs": [
    {
     "data": {
      "text/plain": [
       "'ok'"
      ]
     },
     "execution_count": 34,
     "metadata": {},
     "output_type": "execute_result"
    }
   ],
   "source": [
    "reviews[third]"
   ]
  },
  {
   "cell_type": "code",
   "execution_count": 36,
   "id": "dd09eccb",
   "metadata": {},
   "outputs": [
    {
     "data": {
      "text/plain": [
       "False"
      ]
     },
     "execution_count": 36,
     "metadata": {},
     "output_type": "execute_result"
    }
   ],
   "source": [
    "first == second"
   ]
  },
  {
   "cell_type": "code",
   "execution_count": 37,
   "id": "c6707c79",
   "metadata": {},
   "outputs": [
    {
     "data": {
      "text/plain": [
       "False"
      ]
     },
     "execution_count": 37,
     "metadata": {},
     "output_type": "execute_result"
    }
   ],
   "source": [
    "first == third"
   ]
  },
  {
   "cell_type": "code",
   "execution_count": 20,
   "id": "30e451d8",
   "metadata": {},
   "outputs": [
    {
     "data": {
      "text/plain": [
       "'ok'"
      ]
     },
     "execution_count": 20,
     "metadata": {},
     "output_type": "execute_result"
    }
   ],
   "source": [
    "reviews[first]"
   ]
  },
  {
   "cell_type": "code",
   "execution_count": 21,
   "id": "34d76ad6",
   "metadata": {},
   "outputs": [
    {
     "data": {
      "text/plain": [
       "{<__main__.Car at 0x1b19e00e540>: 'ok',\n",
       " <__main__.Car at 0x1b19e00f2f0>: 'good'}"
      ]
     },
     "execution_count": 21,
     "metadata": {},
     "output_type": "execute_result"
    }
   ],
   "source": [
    "reviews"
   ]
  },
  {
   "cell_type": "code",
   "execution_count": 23,
   "id": "f64fb2b2",
   "metadata": {},
   "outputs": [
    {
     "data": {
      "text/plain": [
       "-6677985931417389062"
      ]
     },
     "execution_count": 23,
     "metadata": {},
     "output_type": "execute_result"
    }
   ],
   "source": [
    "hash(first)"
   ]
  },
  {
   "cell_type": "code",
   "execution_count": 24,
   "id": "dc12a8fb",
   "metadata": {},
   "outputs": [
    {
     "data": {
      "text/plain": [
       "-6677985931417389062"
      ]
     },
     "execution_count": 24,
     "metadata": {},
     "output_type": "execute_result"
    }
   ],
   "source": [
    "hash(third)"
   ]
  },
  {
   "cell_type": "code",
   "execution_count": 25,
   "id": "9cb9ad96",
   "metadata": {},
   "outputs": [
    {
     "data": {
      "text/plain": [
       "4356798019217943553"
      ]
     },
     "execution_count": 25,
     "metadata": {},
     "output_type": "execute_result"
    }
   ],
   "source": [
    "hash(second)"
   ]
  },
  {
   "cell_type": "code",
   "execution_count": null,
   "id": "08f46bf3",
   "metadata": {},
   "outputs": [],
   "source": []
  }
 ],
 "metadata": {
  "kernelspec": {
   "display_name": "env",
   "language": "python",
   "name": "python3"
  },
  "language_info": {
   "codemirror_mode": {
    "name": "ipython",
    "version": 3
   },
   "file_extension": ".py",
   "mimetype": "text/x-python",
   "name": "python",
   "nbconvert_exporter": "python",
   "pygments_lexer": "ipython3",
   "version": "3.12.10"
  }
 },
 "nbformat": 4,
 "nbformat_minor": 5
}
