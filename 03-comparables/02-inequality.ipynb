{
 "cells": [
  {
   "cell_type": "code",
   "execution_count": 1,
   "id": "ff3d33b9",
   "metadata": {},
   "outputs": [],
   "source": [
    "x = 1\n",
    "y = 1\n",
    "z = 2"
   ]
  },
  {
   "cell_type": "code",
   "execution_count": 2,
   "id": "1e4115ef",
   "metadata": {},
   "outputs": [
    {
     "data": {
      "text/plain": [
       "True"
      ]
     },
     "execution_count": 2,
     "metadata": {},
     "output_type": "execute_result"
    }
   ],
   "source": [
    "x == y"
   ]
  },
  {
   "cell_type": "code",
   "execution_count": 3,
   "id": "99844151",
   "metadata": {},
   "outputs": [
    {
     "data": {
      "text/plain": [
       "False"
      ]
     },
     "execution_count": 3,
     "metadata": {},
     "output_type": "execute_result"
    }
   ],
   "source": [
    "x == z"
   ]
  },
  {
   "cell_type": "code",
   "execution_count": 4,
   "id": "1637f3b5",
   "metadata": {},
   "outputs": [],
   "source": [
    "x = 'a'\n",
    "y = 'a'\n",
    "z = 'b'"
   ]
  },
  {
   "cell_type": "code",
   "execution_count": 5,
   "id": "20ed35e4",
   "metadata": {},
   "outputs": [
    {
     "data": {
      "text/plain": [
       "True"
      ]
     },
     "execution_count": 5,
     "metadata": {},
     "output_type": "execute_result"
    }
   ],
   "source": [
    "x == y"
   ]
  },
  {
   "cell_type": "code",
   "execution_count": 6,
   "id": "5fb02eca",
   "metadata": {},
   "outputs": [
    {
     "data": {
      "text/plain": [
       "False"
      ]
     },
     "execution_count": 6,
     "metadata": {},
     "output_type": "execute_result"
    }
   ],
   "source": [
    "x == z"
   ]
  },
  {
   "cell_type": "code",
   "execution_count": 7,
   "id": "4634145e",
   "metadata": {},
   "outputs": [],
   "source": [
    "from operator import eq, ne"
   ]
  },
  {
   "cell_type": "code",
   "execution_count": 8,
   "id": "9fa13945",
   "metadata": {},
   "outputs": [
    {
     "data": {
      "text/plain": [
       "True"
      ]
     },
     "execution_count": 8,
     "metadata": {},
     "output_type": "execute_result"
    }
   ],
   "source": [
    "eq(x, y)"
   ]
  },
  {
   "cell_type": "code",
   "execution_count": 9,
   "id": "12d7b27c",
   "metadata": {},
   "outputs": [
    {
     "data": {
      "text/plain": [
       "False"
      ]
     },
     "execution_count": 9,
     "metadata": {},
     "output_type": "execute_result"
    }
   ],
   "source": [
    "eq(x,z)"
   ]
  },
  {
   "cell_type": "code",
   "execution_count": 10,
   "id": "9e067118",
   "metadata": {},
   "outputs": [
    {
     "data": {
      "text/plain": [
       "True"
      ]
     },
     "execution_count": 10,
     "metadata": {},
     "output_type": "execute_result"
    }
   ],
   "source": [
    "ne(x,z)"
   ]
  },
  {
   "cell_type": "code",
   "execution_count": 5,
   "id": "d7216954",
   "metadata": {},
   "outputs": [],
   "source": [
    "class Point:\n",
    "    def __init__(self, x, y):\n",
    "        self.x = x\n",
    "        self.y = y\n",
    "\n",
    "    def __repr__(self):\n",
    "        return f\"<Point({self.x}, {self.y}) />\"\n",
    "    \n",
    "    def __eq__(self, other):\n",
    "        if not isinstance(other, Point):\n",
    "            return NotImplemented\n",
    "        return self.x == other.x and self.y == other.y\n",
    "    \n",
    "    def __ne__(self, other):\n",
    "        return not self.__eq__(other)"
   ]
  },
  {
   "cell_type": "code",
   "execution_count": 6,
   "id": "5c898b6e",
   "metadata": {},
   "outputs": [],
   "source": [
    "p1 = Point(0, 0)\n",
    "p2 = Point(0, 0)\n",
    "p3 = Point(1, -4)"
   ]
  },
  {
   "cell_type": "code",
   "execution_count": 17,
   "id": "5bb444dc",
   "metadata": {},
   "outputs": [
    {
     "data": {
      "text/plain": [
       "False"
      ]
     },
     "execution_count": 17,
     "metadata": {},
     "output_type": "execute_result"
    }
   ],
   "source": [
    "p1 == p2"
   ]
  },
  {
   "cell_type": "code",
   "execution_count": 18,
   "id": "30cdbc8d",
   "metadata": {},
   "outputs": [
    {
     "data": {
      "text/plain": [
       "False"
      ]
     },
     "execution_count": 18,
     "metadata": {},
     "output_type": "execute_result"
    }
   ],
   "source": [
    "eq(p1, p2)"
   ]
  },
  {
   "cell_type": "code",
   "execution_count": 24,
   "id": "d4b66c82",
   "metadata": {},
   "outputs": [
    {
     "data": {
      "text/plain": [
       "True"
      ]
     },
     "execution_count": 24,
     "metadata": {},
     "output_type": "execute_result"
    }
   ],
   "source": [
    "p1 == p2"
   ]
  },
  {
   "cell_type": "code",
   "execution_count": 8,
   "id": "4b71b58b",
   "metadata": {},
   "outputs": [
    {
     "data": {
      "text/plain": [
       "False"
      ]
     },
     "execution_count": 8,
     "metadata": {},
     "output_type": "execute_result"
    }
   ],
   "source": [
    "p1 == p3"
   ]
  },
  {
   "cell_type": "code",
   "execution_count": 7,
   "id": "64e87514",
   "metadata": {},
   "outputs": [
    {
     "data": {
      "text/plain": [
       "True"
      ]
     },
     "execution_count": 7,
     "metadata": {},
     "output_type": "execute_result"
    }
   ],
   "source": [
    "p1 != p3"
   ]
  },
  {
   "cell_type": "code",
   "execution_count": null,
   "id": "614e90fa",
   "metadata": {},
   "outputs": [],
   "source": []
  }
 ],
 "metadata": {
  "kernelspec": {
   "display_name": "env",
   "language": "python",
   "name": "python3"
  },
  "language_info": {
   "codemirror_mode": {
    "name": "ipython",
    "version": 3
   },
   "file_extension": ".py",
   "mimetype": "text/x-python",
   "name": "python",
   "nbconvert_exporter": "python",
   "pygments_lexer": "ipython3",
   "version": "3.12.10"
  }
 },
 "nbformat": 4,
 "nbformat_minor": 5
}
