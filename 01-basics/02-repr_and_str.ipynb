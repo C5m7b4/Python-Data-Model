{
 "cells": [
  {
   "cell_type": "code",
   "execution_count": 1,
   "id": "53b3ae49",
   "metadata": {},
   "outputs": [],
   "source": [
    "import uuid"
   ]
  },
  {
   "cell_type": "code",
   "execution_count": 24,
   "id": "0747adb9",
   "metadata": {},
   "outputs": [],
   "source": [
    "class Taco:\n",
    "    def __init__(self, shell, protein, toppings=[]):\n",
    "        self.shell = shell\n",
    "        self.protein = protein\n",
    "        self.toppings = toppings\n",
    "\n",
    "    def __repr__(self):\n",
    "        return f'<Taco toppings={self.toppings}, protein={self.protein}, shell={self.shell}, @: {id(self)} >'\n",
    "\n",
    "    def __str__(self):\n",
    "        toppings = (f'with {','.join(self.toppings)}') if self.toppings else ''\n",
    "        return f'{self.shell} shell {self.protein} taco {toppings}'\n"
   ]
  },
  {
   "cell_type": "code",
   "execution_count": 25,
   "id": "949eb2b7",
   "metadata": {},
   "outputs": [],
   "source": [
    "t1 = Taco('hard', 'chicken')"
   ]
  },
  {
   "cell_type": "code",
   "execution_count": 26,
   "id": "cb53ec0e",
   "metadata": {},
   "outputs": [
    {
     "data": {
      "text/plain": [
       "<Taco toppings=[], protein=chicken, shell=hard, @: 2001031183728 >"
      ]
     },
     "execution_count": 26,
     "metadata": {},
     "output_type": "execute_result"
    }
   ],
   "source": [
    "t1"
   ]
  },
  {
   "cell_type": "code",
   "execution_count": 27,
   "id": "7c020a93",
   "metadata": {},
   "outputs": [
    {
     "data": {
      "text/plain": [
       "'<Taco toppings=[], protein=chicken, shell=hard, @: 2001031183728 >'"
      ]
     },
     "execution_count": 27,
     "metadata": {},
     "output_type": "execute_result"
    }
   ],
   "source": [
    "repr(t1)"
   ]
  },
  {
   "cell_type": "code",
   "execution_count": 19,
   "id": "b0bda85f",
   "metadata": {},
   "outputs": [
    {
     "data": {
      "text/plain": [
       "'hard shell chicken taco '"
      ]
     },
     "execution_count": 19,
     "metadata": {},
     "output_type": "execute_result"
    }
   ],
   "source": [
    "str(t1)"
   ]
  },
  {
   "cell_type": "code",
   "execution_count": 6,
   "id": "b59d62b3",
   "metadata": {},
   "outputs": [],
   "source": [
    "t2 = Taco('soft', 'beef', ['cheese'])"
   ]
  },
  {
   "cell_type": "code",
   "execution_count": null,
   "id": "93af53a4",
   "metadata": {},
   "outputs": [],
   "source": []
  }
 ],
 "metadata": {
  "kernelspec": {
   "display_name": "env",
   "language": "python",
   "name": "python3"
  },
  "language_info": {
   "codemirror_mode": {
    "name": "ipython",
    "version": 3
   },
   "file_extension": ".py",
   "mimetype": "text/x-python",
   "name": "python",
   "nbconvert_exporter": "python",
   "pygments_lexer": "ipython3",
   "version": "3.12.10"
  }
 },
 "nbformat": 4,
 "nbformat_minor": 5
}
