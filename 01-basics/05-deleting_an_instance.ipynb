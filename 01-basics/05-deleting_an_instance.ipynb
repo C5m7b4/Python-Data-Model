{
 "cells": [
  {
   "cell_type": "code",
   "execution_count": 1,
   "id": "5bd13f0d",
   "metadata": {},
   "outputs": [],
   "source": [
    "t = [1,2,3]"
   ]
  },
  {
   "cell_type": "code",
   "execution_count": 2,
   "id": "c8bf7c4a",
   "metadata": {},
   "outputs": [],
   "source": [
    "del t"
   ]
  },
  {
   "cell_type": "code",
   "execution_count": 3,
   "id": "23a3b140",
   "metadata": {},
   "outputs": [
    {
     "ename": "NameError",
     "evalue": "name 't' is not defined",
     "output_type": "error",
     "traceback": [
      "\u001b[31m---------------------------------------------------------------------------\u001b[39m",
      "\u001b[31mNameError\u001b[39m                                 Traceback (most recent call last)",
      "\u001b[36mCell\u001b[39m\u001b[36m \u001b[39m\u001b[32mIn[3]\u001b[39m\u001b[32m, line 1\u001b[39m\n\u001b[32m----> \u001b[39m\u001b[32m1\u001b[39m \u001b[43mt\u001b[49m\n",
      "\u001b[31mNameError\u001b[39m: name 't' is not defined"
     ]
    }
   ],
   "source": [
    "t"
   ]
  },
  {
   "cell_type": "code",
   "execution_count": 4,
   "id": "2d9bec2e",
   "metadata": {},
   "outputs": [],
   "source": [
    "t = [1,2,3]"
   ]
  },
  {
   "cell_type": "code",
   "execution_count": 5,
   "id": "3fac2f84",
   "metadata": {},
   "outputs": [],
   "source": [
    "del t[0]"
   ]
  },
  {
   "cell_type": "code",
   "execution_count": 6,
   "id": "3cc6ba37",
   "metadata": {},
   "outputs": [
    {
     "data": {
      "text/plain": [
       "[2, 3]"
      ]
     },
     "execution_count": 6,
     "metadata": {},
     "output_type": "execute_result"
    }
   ],
   "source": [
    "t"
   ]
  },
  {
   "cell_type": "code",
   "execution_count": 7,
   "id": "15fbe9c2",
   "metadata": {},
   "outputs": [],
   "source": [
    "import sys"
   ]
  },
  {
   "cell_type": "code",
   "execution_count": 11,
   "id": "d1ba1750",
   "metadata": {},
   "outputs": [],
   "source": [
    "class Buffer:\n",
    "    def __init__(self, max_length=50):\n",
    "        self.data = b''\n",
    "        self.max_length = max_length\n",
    "\n",
    "    def write(self, msg):\n",
    "        if len(self.data) < self.max_length:\n",
    "            self.data += msg[:self.max_length - len(self.data)]\n",
    "\n",
    "    def flush(self):\n",
    "        if self.data:\n",
    "            sys.stdout.write(self.data.decode('utf-8'))\n",
    "            self.data = b''\n",
    "\n",
    "    def __del__(self):\n",
    "        print(\"deleting\")\n",
    "        self.flush()"
   ]
  },
  {
   "cell_type": "code",
   "execution_count": 9,
   "id": "ba979ebc",
   "metadata": {},
   "outputs": [],
   "source": [
    "b1 = Buffer()\n",
    "b1.write(b'mike is hosing')"
   ]
  },
  {
   "cell_type": "code",
   "execution_count": 10,
   "id": "63e3c893",
   "metadata": {},
   "outputs": [
    {
     "name": "stdout",
     "output_type": "stream",
     "text": [
      "mike is hosing"
     ]
    }
   ],
   "source": [
    "b1.flush()"
   ]
  },
  {
   "cell_type": "code",
   "execution_count": 12,
   "id": "748d1c5c",
   "metadata": {},
   "outputs": [],
   "source": [
    "b1 = Buffer()"
   ]
  },
  {
   "cell_type": "code",
   "execution_count": 16,
   "id": "363552d1",
   "metadata": {},
   "outputs": [],
   "source": [
    "b1.write(b'hello')"
   ]
  },
  {
   "cell_type": "code",
   "execution_count": 17,
   "id": "cc285a88",
   "metadata": {},
   "outputs": [
    {
     "name": "stdout",
     "output_type": "stream",
     "text": [
      "deleting\n",
      "hello"
     ]
    }
   ],
   "source": [
    "del b1"
   ]
  },
  {
   "cell_type": "code",
   "execution_count": null,
   "id": "51d1e4df",
   "metadata": {},
   "outputs": [],
   "source": []
  }
 ],
 "metadata": {
  "kernelspec": {
   "display_name": "env",
   "language": "python",
   "name": "python3"
  },
  "language_info": {
   "codemirror_mode": {
    "name": "ipython",
    "version": 3
   },
   "file_extension": ".py",
   "mimetype": "text/x-python",
   "name": "python",
   "nbconvert_exporter": "python",
   "pygments_lexer": "ipython3",
   "version": "3.12.10"
  }
 },
 "nbformat": 4,
 "nbformat_minor": 5
}
