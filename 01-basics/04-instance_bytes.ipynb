{
 "cells": [
  {
   "cell_type": "code",
   "execution_count": 3,
   "id": "3537b416",
   "metadata": {},
   "outputs": [
    {
     "data": {
      "text/plain": [
       "b'abc'"
      ]
     },
     "execution_count": 3,
     "metadata": {},
     "output_type": "execute_result"
    }
   ],
   "source": [
    "b'abc'"
   ]
  },
  {
   "cell_type": "code",
   "execution_count": 4,
   "id": "82dfc366",
   "metadata": {},
   "outputs": [
    {
     "data": {
      "text/plain": [
       "bytes"
      ]
     },
     "execution_count": 4,
     "metadata": {},
     "output_type": "execute_result"
    }
   ],
   "source": [
    "type(b'abc')"
   ]
  },
  {
   "cell_type": "code",
   "execution_count": 5,
   "id": "6ca957f7",
   "metadata": {},
   "outputs": [
    {
     "data": {
      "text/plain": [
       "str"
      ]
     },
     "execution_count": 5,
     "metadata": {},
     "output_type": "execute_result"
    }
   ],
   "source": [
    "s = 'abc'\n",
    "type(s)"
   ]
  },
  {
   "cell_type": "code",
   "execution_count": 6,
   "id": "1af09d37",
   "metadata": {},
   "outputs": [
    {
     "data": {
      "text/plain": [
       "'a'"
      ]
     },
     "execution_count": 6,
     "metadata": {},
     "output_type": "execute_result"
    }
   ],
   "source": [
    "s[0]"
   ]
  },
  {
   "cell_type": "code",
   "execution_count": 7,
   "id": "92c2fd54",
   "metadata": {},
   "outputs": [
    {
     "data": {
      "text/plain": [
       "97"
      ]
     },
     "execution_count": 7,
     "metadata": {},
     "output_type": "execute_result"
    }
   ],
   "source": [
    "by_str[0]"
   ]
  },
  {
   "cell_type": "code",
   "execution_count": 8,
   "id": "fcdc8f3d",
   "metadata": {},
   "outputs": [
    {
     "ename": "TypeError",
     "evalue": "'str' object does not support item assignment",
     "output_type": "error",
     "traceback": [
      "\u001b[31m---------------------------------------------------------------------------\u001b[39m",
      "\u001b[31mTypeError\u001b[39m                                 Traceback (most recent call last)",
      "\u001b[36mCell\u001b[39m\u001b[36m \u001b[39m\u001b[32mIn[8]\u001b[39m\u001b[32m, line 1\u001b[39m\n\u001b[32m----> \u001b[39m\u001b[32m1\u001b[39m \u001b[43ms\u001b[49m\u001b[43m[\u001b[49m\u001b[32;43m0\u001b[39;49m\u001b[43m]\u001b[49m = \u001b[33m'\u001b[39m\u001b[33m3\u001b[39m\u001b[33m'\u001b[39m\n",
      "\u001b[31mTypeError\u001b[39m: 'str' object does not support item assignment"
     ]
    }
   ],
   "source": [
    "s[0] = '3'"
   ]
  },
  {
   "cell_type": "code",
   "execution_count": 9,
   "id": "9d3a6151",
   "metadata": {},
   "outputs": [
    {
     "ename": "TypeError",
     "evalue": "'bytes' object does not support item assignment",
     "output_type": "error",
     "traceback": [
      "\u001b[31m---------------------------------------------------------------------------\u001b[39m",
      "\u001b[31mTypeError\u001b[39m                                 Traceback (most recent call last)",
      "\u001b[36mCell\u001b[39m\u001b[36m \u001b[39m\u001b[32mIn[9]\u001b[39m\u001b[32m, line 1\u001b[39m\n\u001b[32m----> \u001b[39m\u001b[32m1\u001b[39m \u001b[43mby_str\u001b[49m\u001b[43m[\u001b[49m\u001b[32;43m0\u001b[39;49m\u001b[43m]\u001b[49m = \u001b[32m98\u001b[39m\n",
      "\u001b[31mTypeError\u001b[39m: 'bytes' object does not support item assignment"
     ]
    }
   ],
   "source": [
    "by_str[0] = 98"
   ]
  },
  {
   "cell_type": "code",
   "execution_count": 14,
   "id": "e9bf1f76",
   "metadata": {},
   "outputs": [
    {
     "data": {
      "text/plain": [
       "True"
      ]
     },
     "execution_count": 14,
     "metadata": {},
     "output_type": "execute_result"
    }
   ],
   "source": [
    "by_str.endswith(b'c')"
   ]
  },
  {
   "cell_type": "code",
   "execution_count": 11,
   "id": "3f812b4f",
   "metadata": {},
   "outputs": [
    {
     "data": {
      "text/plain": [
       "b'abc'"
      ]
     },
     "execution_count": 11,
     "metadata": {},
     "output_type": "execute_result"
    }
   ],
   "source": [
    "s.encode()"
   ]
  },
  {
   "cell_type": "code",
   "execution_count": 12,
   "id": "0762985c",
   "metadata": {},
   "outputs": [
    {
     "data": {
      "text/plain": [
       "'abc'"
      ]
     },
     "execution_count": 12,
     "metadata": {},
     "output_type": "execute_result"
    }
   ],
   "source": [
    "by_str.decode()"
   ]
  },
  {
   "cell_type": "code",
   "execution_count": 22,
   "id": "40c6f4b8",
   "metadata": {},
   "outputs": [],
   "source": [
    "class Taco:\n",
    "    def __init__(self, shell, protein, toppings=[]):\n",
    "        self.shell = shell\n",
    "        self.protein = protein\n",
    "        self.toppings = toppings\n",
    "\n",
    "    def __bytes__(self):\n",
    "        message = ''.join(hex(ord(char)) for char in self.__str__())\n",
    "        return message.encode()\n",
    "\n",
    "    def __repr__(self):\n",
    "        return f'<Taco toppings={self.toppings}, protein={self.protein}, shell={self.shell}, @: {id(self)} >'\n",
    "\n",
    "    def __str__(self):\n",
    "        toppings = (f'with {','.join(self.toppings)}') if self.toppings else ''\n",
    "        return f'{self.shell} shell {self.protein} taco {toppings}'\n",
    "    \n",
    "    def __format__(self, format_spec):\n",
    "        print(format_spec)\n",
    "        if format_spec.endswith('d'):\n",
    "            return str(sum(ord(char) for char in self.__str__()))\n",
    "        if format_spec.endswith('taco'):\n",
    "            return self.__repr__().upper() + '!!!!'\n",
    "        return super().__format__(format_spec)"
   ]
  },
  {
   "cell_type": "code",
   "execution_count": 23,
   "id": "007a3aa4",
   "metadata": {},
   "outputs": [],
   "source": [
    "t1 = Taco(\"soft\", \"chicken\", [\"lettuce\", \"cheese\"])"
   ]
  },
  {
   "cell_type": "code",
   "execution_count": 17,
   "id": "58653981",
   "metadata": {},
   "outputs": [
    {
     "data": {
      "text/plain": [
       "<Taco toppings=['lettuce', 'cheese'], protein=chicken, shell=soft, @: 2348619175104 >"
      ]
     },
     "execution_count": 17,
     "metadata": {},
     "output_type": "execute_result"
    }
   ],
   "source": [
    "t1"
   ]
  },
  {
   "cell_type": "code",
   "execution_count": 24,
   "id": "52f5f43d",
   "metadata": {},
   "outputs": [
    {
     "data": {
      "text/plain": [
       "b'0x730x6f0x660x740x200x730x680x650x6c0x6c0x200x630x680x690x630x6b0x650x6e0x200x740x610x630x6f0x200x770x690x740x680x200x6c0x650x740x740x750x630x650x2c0x630x680x650x650x730x65'"
      ]
     },
     "execution_count": 24,
     "metadata": {},
     "output_type": "execute_result"
    }
   ],
   "source": [
    "bytes(t1)"
   ]
  },
  {
   "cell_type": "code",
   "execution_count": 25,
   "id": "98d6e729",
   "metadata": {},
   "outputs": [
    {
     "data": {
      "text/plain": [
       "'0x730x6f0x660x740x200x730x680x650x6c0x6c0x200x630x680x690x630x6b0x650x6e0x200x740x610x630x6f0x200x770x690x740x680x200x6c0x650x740x740x750x630x650x2c0x630x680x650x650x730x65'"
      ]
     },
     "execution_count": 25,
     "metadata": {},
     "output_type": "execute_result"
    }
   ],
   "source": [
    "bytes(t1).decode()"
   ]
  },
  {
   "cell_type": "code",
   "execution_count": null,
   "id": "b6a7bc9a",
   "metadata": {},
   "outputs": [],
   "source": []
  }
 ],
 "metadata": {
  "kernelspec": {
   "display_name": "env",
   "language": "python",
   "name": "python3"
  },
  "language_info": {
   "codemirror_mode": {
    "name": "ipython",
    "version": 3
   },
   "file_extension": ".py",
   "mimetype": "text/x-python",
   "name": "python",
   "nbconvert_exporter": "python",
   "pygments_lexer": "ipython3",
   "version": "3.12.10"
  }
 },
 "nbformat": 4,
 "nbformat_minor": 5
}
