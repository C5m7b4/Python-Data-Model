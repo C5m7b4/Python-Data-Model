{
 "cells": [
  {
   "cell_type": "code",
   "execution_count": 36,
   "id": "15f202f7",
   "metadata": {},
   "outputs": [],
   "source": [
    "import uuid"
   ]
  },
  {
   "cell_type": "code",
   "execution_count": 47,
   "id": "eaec68e4",
   "metadata": {},
   "outputs": [],
   "source": [
    "class Person:\n",
    "    def __init__(self, name, age):\n",
    "        self.name = name\n",
    "        self.age = age\n",
    "\n",
    "    def __new__(cls, *args, **kwargs):\n",
    "        name, age = args\n",
    "        if not isinstance(name, str):\n",
    "            raise TypeError(f\"Your name should be a string, not {type(name)}\")\n",
    "        if not isinstance(age, (int, float)):\n",
    "            raise TypeError(f\"Your age should be a number, not {type(age)}\")        \n",
    "        obj = super().__new__(cls)\n",
    "        obj.uuid = uuid.uuid4()\n",
    "        return obj"
   ]
  },
  {
   "cell_type": "code",
   "execution_count": null,
   "id": "922c2a44",
   "metadata": {},
   "outputs": [],
   "source": []
  },
  {
   "cell_type": "code",
   "execution_count": 48,
   "id": "a6d4b966",
   "metadata": {},
   "outputs": [],
   "source": [
    "person = Person('mike', 28)"
   ]
  },
  {
   "cell_type": "code",
   "execution_count": 49,
   "id": "ac00c1a4",
   "metadata": {},
   "outputs": [
    {
     "data": {
      "text/plain": [
       "<__main__.Person at 0x1a352e3df40>"
      ]
     },
     "execution_count": 49,
     "metadata": {},
     "output_type": "execute_result"
    }
   ],
   "source": [
    "person"
   ]
  },
  {
   "cell_type": "code",
   "execution_count": 50,
   "id": "bc2d889e",
   "metadata": {},
   "outputs": [
    {
     "data": {
      "text/plain": [
       "'mike'"
      ]
     },
     "execution_count": 50,
     "metadata": {},
     "output_type": "execute_result"
    }
   ],
   "source": [
    "person.name"
   ]
  },
  {
   "cell_type": "code",
   "execution_count": 51,
   "id": "64ada486",
   "metadata": {},
   "outputs": [
    {
     "data": {
      "text/plain": [
       "28"
      ]
     },
     "execution_count": 51,
     "metadata": {},
     "output_type": "execute_result"
    }
   ],
   "source": [
    "person.age"
   ]
  },
  {
   "cell_type": "code",
   "execution_count": 52,
   "id": "728f79a8",
   "metadata": {},
   "outputs": [
    {
     "data": {
      "text/plain": [
       "UUID('856fa6f3-4811-4336-8a56-78cd6074d13c')"
      ]
     },
     "execution_count": 52,
     "metadata": {},
     "output_type": "execute_result"
    }
   ],
   "source": [
    "person.uuid"
   ]
  },
  {
   "cell_type": "code",
   "execution_count": 12,
   "id": "427d6303",
   "metadata": {},
   "outputs": [
    {
     "name": "stdout",
     "output_type": "stream",
     "text": [
      "cls: <class '__main__.Person'>\n",
      "args: ('maggie', 25)\n",
      "kwargs: {}\n"
     ]
    }
   ],
   "source": [
    "p1 = Person('maggie', 25)"
   ]
  },
  {
   "cell_type": "code",
   "execution_count": null,
   "id": "2731ebf7",
   "metadata": {},
   "outputs": [],
   "source": []
  }
 ],
 "metadata": {
  "kernelspec": {
   "display_name": "env",
   "language": "python",
   "name": "python3"
  },
  "language_info": {
   "codemirror_mode": {
    "name": "ipython",
    "version": 3
   },
   "file_extension": ".py",
   "mimetype": "text/x-python",
   "name": "python",
   "nbconvert_exporter": "python",
   "pygments_lexer": "ipython3",
   "version": "3.12.10"
  }
 },
 "nbformat": 4,
 "nbformat_minor": 5
}
