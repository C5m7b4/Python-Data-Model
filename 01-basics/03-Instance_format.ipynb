{
 "cells": [
  {
   "cell_type": "code",
   "execution_count": 2,
   "id": "cc7db5b5",
   "metadata": {},
   "outputs": [],
   "source": [
    "import uuid"
   ]
  },
  {
   "cell_type": "code",
   "execution_count": 3,
   "id": "a4fdc06a",
   "metadata": {},
   "outputs": [],
   "source": [
    "class Person:\n",
    "    def __init__(self, name, age):\n",
    "        self.name = name\n",
    "        self.age = age\n",
    "\n",
    "    def __new__(cls, *args, **kwargs):\n",
    "        name, age = args\n",
    "        if not isinstance(name, str):\n",
    "            raise TypeError(f\"Your name should be a string, not {type(name)}\")\n",
    "        if not isinstance(age, (int, float)):\n",
    "            raise TypeError(f\"Your age should be a number, not {type(age)}\")        \n",
    "        obj = super().__new__(cls)\n",
    "        obj.uuid = uuid.uuid4()\n",
    "        return obj"
   ]
  },
  {
   "cell_type": "code",
   "execution_count": 4,
   "id": "90ab45b7",
   "metadata": {},
   "outputs": [
    {
     "data": {
      "text/plain": [
       "'Took 3 seconds'"
      ]
     },
     "execution_count": 4,
     "metadata": {},
     "output_type": "execute_result"
    }
   ],
   "source": [
    "'Took {} seconds'.format(3)"
   ]
  },
  {
   "cell_type": "code",
   "execution_count": 5,
   "id": "eb5b12fb",
   "metadata": {},
   "outputs": [
    {
     "data": {
      "text/plain": [
       "'Took 03 seconds'"
      ]
     },
     "execution_count": 5,
     "metadata": {},
     "output_type": "execute_result"
    }
   ],
   "source": [
    "'Took {:02d} seconds'.format(3)"
   ]
  },
  {
   "cell_type": "code",
   "execution_count": 6,
   "id": "4b94ba16",
   "metadata": {},
   "outputs": [],
   "source": [
    "person = Person('mike', 28)"
   ]
  },
  {
   "cell_type": "code",
   "execution_count": 9,
   "id": "2bfcb835",
   "metadata": {},
   "outputs": [
    {
     "data": {
      "text/plain": [
       "'<__main__.Person object at 0x000002A01079ADE0>'"
      ]
     },
     "execution_count": 9,
     "metadata": {},
     "output_type": "execute_result"
    }
   ],
   "source": [
    "\"{}\".format(person)"
   ]
  },
  {
   "cell_type": "code",
   "execution_count": 10,
   "id": "a8f16bb1",
   "metadata": {},
   "outputs": [
    {
     "data": {
      "text/plain": [
       "'<__main__.Person object at 0x000002A01079ADE0>'"
      ]
     },
     "execution_count": 10,
     "metadata": {},
     "output_type": "execute_result"
    }
   ],
   "source": [
    "\"{!r}\".format(person)"
   ]
  },
  {
   "cell_type": "code",
   "execution_count": 11,
   "id": "6ab61552",
   "metadata": {},
   "outputs": [
    {
     "data": {
      "text/plain": [
       "'<__main__.Person object at 0x000002A01079ADE0>'"
      ]
     },
     "execution_count": 11,
     "metadata": {},
     "output_type": "execute_result"
    }
   ],
   "source": [
    "\"{!s}\".format(person)"
   ]
  },
  {
   "cell_type": "code",
   "execution_count": 12,
   "id": "13400d99",
   "metadata": {},
   "outputs": [
    {
     "ename": "TypeError",
     "evalue": "unsupported format string passed to Person.__format__",
     "output_type": "error",
     "traceback": [
      "\u001b[31m---------------------------------------------------------------------------\u001b[39m",
      "\u001b[31mTypeError\u001b[39m                                 Traceback (most recent call last)",
      "\u001b[36mCell\u001b[39m\u001b[36m \u001b[39m\u001b[32mIn[12]\u001b[39m\u001b[32m, line 1\u001b[39m\n\u001b[32m----> \u001b[39m\u001b[32m1\u001b[39m \u001b[33;43m\"\u001b[39;49m\u001b[38;5;132;43;01m{:04d}\u001b[39;49;00m\u001b[33;43m\"\u001b[39;49m\u001b[43m.\u001b[49m\u001b[43mformat\u001b[49m\u001b[43m(\u001b[49m\u001b[43mperson\u001b[49m\u001b[43m)\u001b[49m\n",
      "\u001b[31mTypeError\u001b[39m: unsupported format string passed to Person.__format__"
     ]
    }
   ],
   "source": [
    "\"{:04d}\".format(person)"
   ]
  },
  {
   "cell_type": "code",
   "execution_count": 36,
   "id": "2f901d78",
   "metadata": {},
   "outputs": [],
   "source": [
    "class Taco:\n",
    "    def __init__(self, shell, protein, toppings=[]):\n",
    "        self.shell = shell\n",
    "        self.protein = protein\n",
    "        self.toppings = toppings\n",
    "\n",
    "    def __repr__(self):\n",
    "        return f'<Taco toppings={self.toppings}, protein={self.protein}, shell={self.shell}, @: {id(self)} >'\n",
    "\n",
    "    def __str__(self):\n",
    "        toppings = (f'with {','.join(self.toppings)}') if self.toppings else ''\n",
    "        return f'{self.shell} shell {self.protein} taco {toppings}'\n",
    "    \n",
    "    def __format__(self, format_spec):\n",
    "        print(format_spec)\n",
    "        if format_spec.endswith('d'):\n",
    "            return str(sum(ord(char) for char in self.__str__()))\n",
    "        if format_spec.endswith('taco'):\n",
    "            return self.__repr__().upper() + '!!!!'\n",
    "        return super().__format__(format_spec)"
   ]
  },
  {
   "cell_type": "code",
   "execution_count": 37,
   "id": "a3205621",
   "metadata": {},
   "outputs": [],
   "source": [
    "t1 = Taco(\"soft\", \"chicken\", [\"lettuce\", \"cheese\"])"
   ]
  },
  {
   "cell_type": "code",
   "execution_count": 23,
   "id": "36e80282",
   "metadata": {},
   "outputs": [
    {
     "name": "stdout",
     "output_type": "stream",
     "text": [
      "\n"
     ]
    },
    {
     "data": {
      "text/plain": [
       "'soft shell chicken taco with lettuce,cheese'"
      ]
     },
     "execution_count": 23,
     "metadata": {},
     "output_type": "execute_result"
    }
   ],
   "source": [
    "\"{}\".format(t1)"
   ]
  },
  {
   "cell_type": "code",
   "execution_count": 22,
   "id": "f61508ae",
   "metadata": {},
   "outputs": [
    {
     "data": {
      "text/plain": [
       "\"<Taco toppings=['lettuce', 'cheese'], protein=chicken, shell=soft, @: 2886495900864 >\""
      ]
     },
     "execution_count": 22,
     "metadata": {},
     "output_type": "execute_result"
    }
   ],
   "source": [
    "\"{!r}\".format(t1)"
   ]
  },
  {
   "cell_type": "code",
   "execution_count": 24,
   "id": "e1e39ea7",
   "metadata": {},
   "outputs": [
    {
     "data": {
      "text/plain": [
       "'soft shell chicken taco with lettuce,cheese'"
      ]
     },
     "execution_count": 24,
     "metadata": {},
     "output_type": "execute_result"
    }
   ],
   "source": [
    "\"{!s}\".format(t1)"
   ]
  },
  {
   "cell_type": "code",
   "execution_count": 32,
   "id": "acf7b7f2",
   "metadata": {},
   "outputs": [
    {
     "name": "stdout",
     "output_type": "stream",
     "text": [
      "02d\n"
     ]
    },
    {
     "data": {
      "text/plain": [
       "'4155'"
      ]
     },
     "execution_count": 32,
     "metadata": {},
     "output_type": "execute_result"
    }
   ],
   "source": [
    "\"{:02d}\".format(t1)"
   ]
  },
  {
   "cell_type": "code",
   "execution_count": 35,
   "id": "9d00e315",
   "metadata": {},
   "outputs": [
    {
     "name": "stdout",
     "output_type": "stream",
     "text": [
      "taco\n"
     ]
    },
    {
     "data": {
      "text/plain": [
       "\"<TACO TOPPINGS=['LETTUCE', 'CHEESE'], PROTEIN=CHICKEN, SHELL=SOFT, @: 2886494265488 >!!!!\""
      ]
     },
     "execution_count": 35,
     "metadata": {},
     "output_type": "execute_result"
    }
   ],
   "source": [
    "\"{:taco}\".format(t1)"
   ]
  },
  {
   "cell_type": "code",
   "execution_count": 38,
   "id": "2d39f536",
   "metadata": {},
   "outputs": [
    {
     "name": "stdout",
     "output_type": "stream",
     "text": [
      "asdfasdf\n"
     ]
    },
    {
     "ename": "TypeError",
     "evalue": "unsupported format string passed to Taco.__format__",
     "output_type": "error",
     "traceback": [
      "\u001b[31m---------------------------------------------------------------------------\u001b[39m",
      "\u001b[31mTypeError\u001b[39m                                 Traceback (most recent call last)",
      "\u001b[36mCell\u001b[39m\u001b[36m \u001b[39m\u001b[32mIn[38]\u001b[39m\u001b[32m, line 1\u001b[39m\n\u001b[32m----> \u001b[39m\u001b[32m1\u001b[39m \u001b[33;43m\"\u001b[39;49m\u001b[33;43m{\u001b[39;49m\u001b[33;43m:asdfasdf}\u001b[39;49m\u001b[33;43m\"\u001b[39;49m\u001b[43m.\u001b[49m\u001b[43mformat\u001b[49m\u001b[43m(\u001b[49m\u001b[43mt1\u001b[49m\u001b[43m)\u001b[49m\n",
      "\u001b[36mCell\u001b[39m\u001b[36m \u001b[39m\u001b[32mIn[36]\u001b[39m\u001b[32m, line 20\u001b[39m, in \u001b[36mTaco.__format__\u001b[39m\u001b[34m(self, format_spec)\u001b[39m\n\u001b[32m     18\u001b[39m \u001b[38;5;28;01mif\u001b[39;00m format_spec.endswith(\u001b[33m'\u001b[39m\u001b[33mtaco\u001b[39m\u001b[33m'\u001b[39m):\n\u001b[32m     19\u001b[39m     \u001b[38;5;28;01mreturn\u001b[39;00m \u001b[38;5;28mself\u001b[39m.\u001b[34m__repr__\u001b[39m().upper() + \u001b[33m'\u001b[39m\u001b[33m!!!!\u001b[39m\u001b[33m'\u001b[39m\n\u001b[32m---> \u001b[39m\u001b[32m20\u001b[39m \u001b[38;5;28;01mreturn\u001b[39;00m \u001b[38;5;28;43msuper\u001b[39;49m\u001b[43m(\u001b[49m\u001b[43m)\u001b[49m\u001b[43m.\u001b[49m\u001b[34;43m__format__\u001b[39;49m\u001b[43m(\u001b[49m\u001b[43mformat_spec\u001b[49m\u001b[43m)\u001b[49m\n",
      "\u001b[31mTypeError\u001b[39m: unsupported format string passed to Taco.__format__"
     ]
    }
   ],
   "source": [
    "\"{:asdfasdf}\".format(t1)"
   ]
  },
  {
   "cell_type": "code",
   "execution_count": null,
   "id": "72052cc9",
   "metadata": {},
   "outputs": [],
   "source": []
  }
 ],
 "metadata": {
  "kernelspec": {
   "display_name": "env",
   "language": "python",
   "name": "python3"
  },
  "language_info": {
   "codemirror_mode": {
    "name": "ipython",
    "version": 3
   },
   "file_extension": ".py",
   "mimetype": "text/x-python",
   "name": "python",
   "nbconvert_exporter": "python",
   "pygments_lexer": "ipython3",
   "version": "3.12.10"
  }
 },
 "nbformat": 4,
 "nbformat_minor": 5
}
